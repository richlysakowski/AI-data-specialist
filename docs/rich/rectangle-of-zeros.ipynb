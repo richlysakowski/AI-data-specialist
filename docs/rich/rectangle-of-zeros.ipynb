{
 "cells": [
  {
   "cell_type": "markdown",
   "metadata": {},
   "source": [
    "Python code defines a function find_rectangles(matrix) that finds all rectangles of zeros in a given 2D matrix. The rectangles are defined by their top-left and bottom-right corners.\n",
    "\n",
    "The function uses a depth-first search (DFS) algorithm to traverse the matrix. It starts by initializing a visited matrix of the same size as the input matrix, filled with False values, and an empty list rectangles to store the rectangles found.\n",
    "\n",
    "The dfs(i, j) function is a helper function that performs the DFS. It takes a cell (i, j) as input. If the cell is out of bounds, already visited, or contains a 1, it returns immediately. Otherwise, it marks the cell as visited, updates the bottom-right corner of the current rectangle (stored in rectangles[-1][1]), and recursively calls dfs on the right and bottom neighbors of the cell.\n",
    "\n",
    "The main part of find_rectangles iterates over each cell in the matrix. If a cell contains a 0 and has not been visited, it starts a new rectangle with the top-left and bottom-right corners both set to the current cell, and calls dfs on the cell.\n",
    "\n",
    "Finally, the function returns a list of tuples, where each tuple represents a rectangle and contains the coordinates of the top-left and bottom-right corners.\n",
    "\n",
    "The code then tests the function on a sample matrix and prints the result. The output is a list of rectangles, where each rectangle is represented by a tuple of two tuples: the first tuple is the coordinates of the top-left corner, and the second tuple is the coordinates of the bottom-right corner.\n",
    "'''"
   ]
  },
  {
   "cell_type": "code",
   "execution_count": null,
   "metadata": {},
   "outputs": [],
   "source": [
    "\n",
    "\n",
    "\n",
    "def find_rectangles(matrix):\n",
    "    visited = [[False]*len(matrix[0]) for _ in range(len(matrix))]\n",
    "    rectangles = []\n",
    "\n",
    "    def dfs(i, j):\n",
    "        if i < 0 or i >= len(matrix) or j < 0 or j >= len(matrix[0]) or visited[i][j] or matrix[i][j] == 1:\n",
    "            return\n",
    "        visited[i][j] = True\n",
    "        rectangles[-1][1][0] = max(rectangles[-1][1][0], i)\n",
    "        rectangles[-1][1][1] = max(rectangles[-1][1][1], j)\n",
    "        dfs(i+1, j)\n",
    "        dfs(i, j+1)\n",
    "\n",
    "    for i in range(len(matrix)):\n",
    "        for j in range(len(matrix[0])):\n",
    "            if matrix[i][j] == 0 and not visited[i][j]:\n",
    "                rectangles.append([(i, j), [i, j]])\n",
    "                dfs(i, j)\n",
    "\n",
    "    return [((top_left[0], top_left[1]), (bottom_right[0], bottom_right[1])) for top_left, bottom_right in rectangles]\n",
    "\n",
    "# Test the function\n",
    "matrix = [\n",
    "    [0, 1, 1, 0, 0],\n",
    "    [0, 1, 0, 0, 0],\n",
    "    [1, 0, 0, 1, 1],\n",
    "    [0, 0, 1, 0, 0]\n",
    "]\n",
    "print(find_rectangles(matrix))"
   ]
  }
 ],
 "metadata": {
  "kernelspec": {
   "display_name": "base",
   "language": "python",
   "name": "python3"
  },
  "language_info": {
   "codemirror_mode": {
    "name": "ipython",
    "version": 3
   },
   "file_extension": ".py",
   "mimetype": "text/x-python",
   "name": "python",
   "nbconvert_exporter": "python",
   "pygments_lexer": "ipython3",
   "version": "3.11.5"
  }
 },
 "nbformat": 4,
 "nbformat_minor": 2
}
