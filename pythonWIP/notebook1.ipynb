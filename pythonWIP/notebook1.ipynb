{
 "cells": [
  {
   "cell_type": "code",
   "execution_count": 6,
   "metadata": {},
   "outputs": [
    {
     "name": "stdout",
     "output_type": "stream",
     "text": [
      "[2, 6, 8, 80, 6]\n",
      "[2, 6, 8, 80, 6]\n",
      "[11, 12, 13, 15, 16, 18, 19, 87, 90, 11, 16]\n"
     ]
    },
    {
     "ename": "TypeError",
     "evalue": "filter expected 2 arguments, got 1",
     "output_type": "error",
     "traceback": [
      "\u001b[0;31m---------------------------------------------------------------------------\u001b[0m",
      "\u001b[0;31mTypeError\u001b[0m                                 Traceback (most recent call last)",
      "Cell \u001b[0;32mIn[6], line 18\u001b[0m\n\u001b[1;32m     15\u001b[0m list2 \u001b[38;5;241m=\u001b[39m \u001b[38;5;28mlist\u001b[39m(\u001b[38;5;28mmap\u001b[39m(\u001b[38;5;28;01mlambda\u001b[39;00m x: x \u001b[38;5;241m+\u001b[39m \u001b[38;5;241m10\u001b[39m, a))\n\u001b[1;32m     16\u001b[0m \u001b[38;5;28mprint\u001b[39m(list2)\n\u001b[0;32m---> 18\u001b[0m list3 \u001b[38;5;241m=\u001b[39m \u001b[38;5;28mlist\u001b[39m(\u001b[38;5;28;43mfilter\u001b[39;49m\u001b[43m(\u001b[49m\u001b[38;5;28;43mmap\u001b[39;49m\u001b[43m(\u001b[49m\u001b[38;5;28;43;01mlambda\u001b[39;49;00m\u001b[43m \u001b[49m\u001b[43mx\u001b[49m\u001b[43m,\u001b[49m\u001b[43my\u001b[49m\u001b[43m:\u001b[49m\u001b[43m \u001b[49m\u001b[43mx\u001b[49m\u001b[43m \u001b[49m\u001b[38;5;241;43m>\u001b[39;49m\u001b[43m \u001b[49m\u001b[38;5;241;43m10\u001b[39;49m\u001b[43m  \u001b[49m\u001b[38;5;129;43;01mand\u001b[39;49;00m\u001b[43m \u001b[49m\u001b[43my\u001b[49m\u001b[43m \u001b[49m\u001b[38;5;241;43m<\u001b[39;49m\u001b[43m \u001b[49m\u001b[38;5;241;43m100\u001b[39;49m\u001b[43m,\u001b[49m\u001b[43m \u001b[49m\u001b[43ma\u001b[49m\u001b[43m,\u001b[49m\u001b[43mb\u001b[49m\u001b[43m)\u001b[49m\u001b[43m)\u001b[49m)\n\u001b[1;32m     19\u001b[0m \u001b[38;5;28mprint\u001b[39m(list3)\n",
      "\u001b[0;31mTypeError\u001b[0m: filter expected 2 arguments, got 1"
     ]
    }
   ],
   "source": [
    "a = [1,2,3,5,6,8,9,77,80,1,6]\n",
    "b = [1,3,4,5,6,7,8,9,77,80,1]\n",
    "\n",
    "\n",
    "def even_func(x):\n",
    "    return x % 2 == 0\n",
    "  \n",
    "my_list_of_even = list(filter(even_func, a))\n",
    "\n",
    "print(my_list_of_even)\n",
    "\n",
    "new_list = list(filter(lambda x: x % 2 == 0, a))\n",
    "print(new_list)\n",
    "\n",
    "list2 = list(map(lambda x: x + 10, a))\n",
    "print(list2)\n",
    "\n",
    "list3 = list(filter(map(lambda x,y: x > 10  and y < 100, a,b)))\n",
    "print(list3)"
   ]
  },
  {
   "cell_type": "markdown",
   "metadata": {},
   "source": [
    "Lambda functions in Python are anonymous functions that are used when a function is needed for a short period of time, and are most commonly used with the following functions:\n",
    "\n",
    "1. **`filter()`**: As you mentioned, this function is used to filter the given iterable with the help of another function passed as an argument to test all the elements to be True or False.\n",
    "\n",
    "2. **`map()`**: Also as you mentioned, this function applies a given function to all items in an input list.\n",
    "\n",
    "3. **`reduce()`**: This function is a part of `functools` module and applies a rolling computation to sequential pairs of values in a list. For example, if you wanted to compute the product of a list of integers.\n",
    "\n"
   ]
  },
  {
   "cell_type": "code",
   "execution_count": null,
   "metadata": {},
   "outputs": [],
   "source": [
    "from functools import reduce\n",
    "numbers = [1, 2, 3, 4]\n",
    "product = reduce((lambda x, y: x * y), numbers)\n",
    "print(product)  # Output: 24"
   ]
  },
  {
   "cell_type": "markdown",
   "metadata": {},
   "source": [
    "\n",
    "\n",
    "4. **`sorted()`**: This function sorts the elements of a given iterable in a specific order (either ascending or descending) and returns the sorted iterable as a list. Lambda functions can be used for complex sorting.\n",
    "\n"
   ]
  },
  {
   "cell_type": "code",
   "execution_count": null,
   "metadata": {},
   "outputs": [],
   "source": [
    "data = [{'name': 'John', 'age': 20}, {'name': 'Doe', 'age': 25}, {'name': 'Jane', 'age': 22}]\n",
    "sorted_data = sorted(data, key=lambda x: x['age'])\n",
    "print(sorted_data)  # Output: [{'name': 'John', 'age': 20}, {'name': 'Jane', 'age': 22}, {'name': 'Doe', 'age': 25}]"
   ]
  },
  {
   "cell_type": "markdown",
   "metadata": {},
   "source": [
    "\n",
    "\n",
    "5. **Event handlers**: Lambda functions are often used in GUI programming for event handling. For example, when a button is clicked, you might want to execute a certain action.\n",
    "\n",
    "6. **`max()` and `min()`**: These functions return the maximum and minimum of an iterable or the maximum and minimum of two or more arguments. You can use a lambda function to customize the comparison.\n",
    "\n"
   ]
  },
  {
   "cell_type": "code",
   "execution_count": null,
   "metadata": {},
   "outputs": [],
   "source": [
    "data = [{'name': 'John', 'age': 20}, {'name': 'Doe', 'age': 25}, {'name': 'Jane', 'age': 22}]\n",
    "oldest_person = max(data, key=lambda x: x['age'])\n",
    "print(oldest_person)  # Output: {'name': 'Doe', 'age': 25}"
   ]
  },
  {
   "cell_type": "markdown",
   "metadata": {},
   "source": [
    "\n",
    "\n",
    "Remember, lambda functions can be used wherever function objects are required. They are syntactically restricted to a single expression and semantically they are just syntactic sugar for a normal function definition."
   ]
  }
 ],
 "metadata": {
  "kernelspec": {
   "display_name": "Python 3",
   "language": "python",
   "name": "python3"
  },
  "language_info": {
   "codemirror_mode": {
    "name": "ipython",
    "version": 3
   },
   "file_extension": ".py",
   "mimetype": "text/x-python",
   "name": "python",
   "nbconvert_exporter": "python",
   "pygments_lexer": "ipython3",
   "version": "3.10.13"
  }
 },
 "nbformat": 4,
 "nbformat_minor": 2
}
