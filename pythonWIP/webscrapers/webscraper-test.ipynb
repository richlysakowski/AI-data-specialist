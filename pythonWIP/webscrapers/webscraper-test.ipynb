{
 "cells": [
  {
   "cell_type": "markdown",
   "metadata": {},
   "source": [
    "Copilot Updates\n",
    "https://www.youtube.com/playlist?list=PLj6YeMhvp2S5G24Pf_Y_watKMPbQ-Dnt9\n",
    "\n",
    "\n",
    "Understanding Copilot\n",
    "https://www.youtube.com/playlist?list=PLj6YeMhvp2S4iwHQsUcUN1L1jREDq6EvM\n",
    "\n",
    "\n",
    "SQLAlchemy Series\n",
    "https://www.youtube.com/playlist?list=PLj6YeMhvp2S6HXhdDbtorV78fpKkzT6qa\n",
    "\n",
    "GitHub Copilot Series\n",
    "https://www.youtube.com/playlist?list=PLj6YeMhvp2S5_hvBl2SE-7YCHYlLQ0bPt\n",
    "\n"
   ]
  },
  {
   "cell_type": "code",
   "execution_count": null,
   "metadata": {},
   "outputs": [],
   "source": []
  }
 ],
 "metadata": {
  "kernelspec": {
   "display_name": "base",
   "language": "python",
   "name": "python3"
  },
  "language_info": {
   "name": "python",
   "version": "3.12.2"
  }
 },
 "nbformat": 4,
 "nbformat_minor": 2
}
