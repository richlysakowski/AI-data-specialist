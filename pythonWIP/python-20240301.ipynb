{
 "cells": [
  {
   "cell_type": "code",
   "execution_count": 4,
   "metadata": {},
   "outputs": [
    {
     "name": "stdout",
     "output_type": "stream",
     "text": [
      "[75, 72, 75, 101]\n",
      "[72]\n"
     ]
    }
   ],
   "source": [
    "lst1=[2,4,5,7]\n",
    "lst2=[21,14,15,37]\n",
    "lst3=[52,54,55,57]\n",
    "\n",
    "\n",
    "def add(a,b,c):\n",
    "    return a+b+c\n",
    "  \n",
    "  \n",
    "summed1 = list(  map(add,lst1,lst2,lst3))\n",
    "print(summed1)\n",
    "\n",
    "summed2 = list( filter(lambda x: x % 2 == 0, map(add,lst1,lst2,lst3)))\n",
    "print(summed2)  \n"
   ]
  },
  {
   "cell_type": "code",
   "execution_count": 1,
   "metadata": {},
   "outputs": [
    {
     "ename": "TypeError",
     "evalue": "unsupported operand type(s) for +: 'float' and 'str'",
     "output_type": "error",
     "traceback": [
      "\u001b[0;31m---------------------------------------------------------------------------\u001b[0m",
      "\u001b[0;31mTypeError\u001b[0m                                 Traceback (most recent call last)",
      "Cell \u001b[0;32mIn[1], line 4\u001b[0m\n\u001b[1;32m      1\u001b[0m list_names \u001b[38;5;241m=\u001b[39m [\u001b[38;5;124m\"\u001b[39m\u001b[38;5;124mJohn\u001b[39m\u001b[38;5;124m\"\u001b[39m, \u001b[38;5;124m\"\u001b[39m\u001b[38;5;124mJane\u001b[39m\u001b[38;5;124m\"\u001b[39m, [\u001b[38;5;241m1\u001b[39m,\u001b[38;5;241m2\u001b[39m,\u001b[38;5;241m3\u001b[39m], \u001b[38;5;124m\"\u001b[39m\u001b[38;5;124mMike\u001b[39m\u001b[38;5;124m\"\u001b[39m, (\u001b[38;5;241m4\u001b[39m,\u001b[38;5;241m5\u001b[39m,\u001b[38;5;241m7\u001b[39m), \u001b[38;5;124m\"\u001b[39m\u001b[38;5;124mSarah\u001b[39m\u001b[38;5;124m\"\u001b[39m]\n\u001b[1;32m      2\u001b[0m tuple_names \u001b[38;5;241m=\u001b[39m (\u001b[38;5;124m\"\u001b[39m\u001b[38;5;124mJohn\u001b[39m\u001b[38;5;124m\"\u001b[39m, \u001b[38;5;124m\"\u001b[39m\u001b[38;5;124mJane\u001b[39m\u001b[38;5;124m\"\u001b[39m, \u001b[38;5;124m\"\u001b[39m\u001b[38;5;124mTrixy\u001b[39m\u001b[38;5;124m\"\u001b[39m, \u001b[38;5;241m2.2\u001b[39m, \u001b[38;5;124m\"\u001b[39m\u001b[38;5;124mChris\u001b[39m\u001b[38;5;124m\"\u001b[39m, (\u001b[38;5;241m1\u001b[39m,\u001b[38;5;241m2\u001b[39m,\u001b[38;5;241m3\u001b[39m))\n\u001b[0;32m----> 4\u001b[0m t[\u001b[38;5;241m1\u001b[39m] \u001b[38;5;241m=\u001b[39m tuple_names[\u001b[38;5;241m3\u001b[39m] \u001b[38;5;241m+\u001b[39m tuple_names[\u001b[38;5;241m4\u001b[39m]\n\u001b[1;32m      7\u001b[0m \u001b[38;5;28mprint\u001b[39m(\u001b[38;5;28mtype\u001b[39m(list_names))\n\u001b[1;32m      8\u001b[0m \u001b[38;5;28mprint\u001b[39m(list_names)\n",
      "\u001b[0;31mTypeError\u001b[0m: unsupported operand type(s) for +: 'float' and 'str'"
     ]
    }
   ],
   "source": [
    "list_names = [\"John\", \"Jane\", [1,2,3], \"Mike\", (4,5,7), \"Sarah\"]\n",
    "tuple_names = (\"John\", \"Jane\", \"Trixy\", 2.2, \"Chris\", (1,2,3))\n",
    "\n",
    "t[1] = tuple_names[3] + tuple_names[4]\n",
    "\n",
    "\n",
    "print(type(list_names))\n",
    "print(list_names)\n",
    "\n",
    "print(type(tuple_names))\n",
    "print(tuple_names)\n",
    "\n",
    "new_list = list(tuple_names)\n",
    "new_list.append(\"Mike\")\n",
    "print(type(new_list))\n",
    "print(new_list)\n",
    "\n",
    "print(tuple_names[0])\n",
    "\n",
    "print(tuple_names[0:3])\n",
    "\n",
    "print(tuple_names[-5:-1:2])\n",
    "# 2 is the step\n",
    "# ('Trixy', 'Chris')\n",
    "\n",
    "y =(\"Martin\",)\n",
    "tuple_names += y\n",
    "print(tuple_names)\n",
    "\n",
    "y = list(tuple_names)\n",
    "y.remove(\"Trixy\")\n",
    "x = tuple(y)\n",
    "print(x)\n",
    "\n",
    "\n",
    "green,yellow,*red = tuple_names\n",
    "print(\"green = \",green)\n",
    "print(\"yellow = \",yellow)\n",
    "print(\"red = \",red)\n",
    "\n",
    "\n",
    "\n",
    "\n",
    "\n"
   ]
  },
  {
   "cell_type": "code",
   "execution_count": 24,
   "metadata": {},
   "outputs": [
    {
     "name": "stdout",
     "output_type": "stream",
     "text": [
      "[4, 5, 6, 7, 8, 9, 10]\n",
      "[4, 5, 6, 7, 8, 9, 10]\n"
     ]
    }
   ],
   "source": [
    "nums = [1,2,3,4,5,6,7,8,9,10]\n",
    "vals = nums\n",
    "del vals[0:3]\n",
    "print(nums)\n",
    "print(vals)"
   ]
  },
  {
   "cell_type": "code",
   "execution_count": 25,
   "metadata": {},
   "outputs": [
    {
     "name": "stdout",
     "output_type": "stream",
     "text": [
      "1\n",
      "2\n",
      "4\n",
      "8\n"
     ]
    }
   ],
   "source": [
    "var = 1\n",
    "while var < 10:\n",
    "    print(var)\n",
    "    var = var << 1"
   ]
  },
  {
   "cell_type": "code",
   "execution_count": 31,
   "metadata": {},
   "outputs": [
    {
     "name": "stdout",
     "output_type": "stream",
     "text": [
      "[[3, 2, 1], [3, 2, 1], [3, 2, 1]]\n",
      "3\n",
      "5\n",
      "6\n",
      "6\n"
     ]
    }
   ],
   "source": [
    "t = [ [3-i for i in range(3)] for j in range(3)]\n",
    "print(t)\n",
    "s = 0\n",
    "for i in range(3):\n",
    "    s += t[i][i]\n",
    "    print(s)\n",
    "print(s)\n",
    "\n",
    "\n",
    "    "
   ]
  },
  {
   "cell_type": "code",
   "execution_count": 32,
   "metadata": {},
   "outputs": [
    {
     "name": "stdout",
     "output_type": "stream",
     "text": [
      "1\n"
     ]
    }
   ],
   "source": [
    "a = 1\n",
    "b = 0\n",
    "\n",
    "e = a ^ b\n",
    "print(e)"
   ]
  },
  {
   "cell_type": "code",
   "execution_count": 3,
   "metadata": {},
   "outputs": [
    {
     "name": "stdout",
     "output_type": "stream",
     "text": [
      "8\n"
     ]
    }
   ],
   "source": [
    "def fun (i=2, y=3):\n",
    "    return i * y  \n",
    "  \n",
    "print(fun(y=4))"
   ]
  },
  {
   "cell_type": "code",
   "execution_count": null,
   "metadata": {},
   "outputs": [],
   "source": [
    "def test():\n",
    "  return\n",
    "\n",
    "\n",
    "test()"
   ]
  },
  {
   "cell_type": "code",
   "execution_count": 6,
   "metadata": {},
   "outputs": [
    {
     "name": "stdout",
     "output_type": "stream",
     "text": [
      "0\n"
     ]
    }
   ],
   "source": [
    "foo = (1,2,3)\n",
    "print(foo.index(1))"
   ]
  },
  {
   "cell_type": "code",
   "execution_count": 8,
   "metadata": {},
   "outputs": [
    {
     "name": "stdout",
     "output_type": "stream",
     "text": [
      "[]\n"
     ]
    }
   ],
   "source": [
    "l = [1,2,3,4,5]\n",
    "sub = l[-1:-2]\n",
    "print(sub)"
   ]
  }
 ],
 "metadata": {
  "kernelspec": {
   "display_name": "Python 3",
   "language": "python",
   "name": "python3"
  },
  "language_info": {
   "codemirror_mode": {
    "name": "ipython",
    "version": 3
   },
   "file_extension": ".py",
   "mimetype": "text/x-python",
   "name": "python",
   "nbconvert_exporter": "python",
   "pygments_lexer": "ipython3",
   "version": "3.11.5"
  }
 },
 "nbformat": 4,
 "nbformat_minor": 2
}
